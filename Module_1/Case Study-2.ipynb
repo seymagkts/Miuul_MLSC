{
 "cells": [
  {
   "cell_type": "markdown",
   "id": "b2efc499",
   "metadata": {},
   "source": [
    "###### Comprehension yapısı kullanarak car_crashes verisindeki numeric değişkenlerin isimlerini büyük harfe çeviriniz ve başına NUM ekleyiniz."
   ]
  },
  {
   "cell_type": "code",
   "execution_count": 41,
   "id": "f242a4f0",
   "metadata": {},
   "outputs": [
    {
     "data": {
      "text/plain": [
       "<bound method DataFrame.info of     total  speeding  alcohol  ...  ins_premium  ins_losses  abbrev\n",
       "0    18.8     7.332    5.640  ...       784.55      145.08      AL\n",
       "1    18.1     7.421    4.525  ...      1053.48      133.93      AK\n",
       "2    18.6     6.510    5.208  ...       899.47      110.35      AZ\n",
       "3    22.4     4.032    5.824  ...       827.34      142.39      AR\n",
       "4    12.0     4.200    3.360  ...       878.41      165.63      CA\n",
       "5    13.6     5.032    3.808  ...       835.50      139.91      CO\n",
       "6    10.8     4.968    3.888  ...      1068.73      167.02      CT\n",
       "7    16.2     6.156    4.860  ...      1137.87      151.48      DE\n",
       "8     5.9     2.006    1.593  ...      1273.89      136.05      DC\n",
       "9    17.9     3.759    5.191  ...      1160.13      144.18      FL\n",
       "10   15.6     2.964    3.900  ...       913.15      142.80      GA\n",
       "11   17.5     9.450    7.175  ...       861.18      120.92      HI\n",
       "12   15.3     5.508    4.437  ...       641.96       82.75      ID\n",
       "13   12.8     4.608    4.352  ...       803.11      139.15      IL\n",
       "14   14.5     3.625    4.205  ...       710.46      108.92      IN\n",
       "15   15.7     2.669    3.925  ...       649.06      114.47      IA\n",
       "16   17.8     4.806    4.272  ...       780.45      133.80      KS\n",
       "17   21.4     4.066    4.922  ...       872.51      137.13      KY\n",
       "18   20.5     7.175    6.765  ...      1281.55      194.78      LA\n",
       "19   15.1     5.738    4.530  ...       661.88       96.57      ME\n",
       "20   12.5     4.250    4.000  ...      1048.78      192.70      MD\n",
       "21    8.2     1.886    2.870  ...      1011.14      135.63      MA\n",
       "22   14.1     3.384    3.948  ...      1110.61      152.26      MI\n",
       "23    9.6     2.208    2.784  ...       777.18      133.35      MN\n",
       "24   17.6     2.640    5.456  ...       896.07      155.77      MS\n",
       "25   16.1     6.923    5.474  ...       790.32      144.45      MO\n",
       "26   21.4     8.346    9.416  ...       816.21       85.15      MT\n",
       "27   14.9     1.937    5.215  ...       732.28      114.82      NE\n",
       "28   14.7     5.439    4.704  ...      1029.87      138.71      NV\n",
       "29   11.6     4.060    3.480  ...       746.54      120.21      NH\n",
       "30   11.2     1.792    3.136  ...      1301.52      159.85      NJ\n",
       "31   18.4     3.496    4.968  ...       869.85      120.75      NM\n",
       "32   12.3     3.936    3.567  ...      1234.31      150.01      NY\n",
       "33   16.8     6.552    5.208  ...       708.24      127.82      NC\n",
       "34   23.9     5.497   10.038  ...       688.75      109.72      ND\n",
       "35   14.1     3.948    4.794  ...       697.73      133.52      OH\n",
       "36   19.9     6.368    5.771  ...       881.51      178.86      OK\n",
       "37   12.8     4.224    3.328  ...       804.71      104.61      OR\n",
       "38   18.2     9.100    5.642  ...       905.99      153.86      PA\n",
       "39   11.1     3.774    4.218  ...      1148.99      148.58      RI\n",
       "40   23.9     9.082    9.799  ...       858.97      116.29      SC\n",
       "41   19.4     6.014    6.402  ...       669.31       96.87      SD\n",
       "42   19.5     4.095    5.655  ...       767.91      155.57      TN\n",
       "43   19.4     7.760    7.372  ...      1004.75      156.83      TX\n",
       "44   11.3     4.859    1.808  ...       809.38      109.48      UT\n",
       "45   13.6     4.080    4.080  ...       716.20      109.61      VT\n",
       "46   12.7     2.413    3.429  ...       768.95      153.72      VA\n",
       "47   10.6     4.452    3.498  ...       890.03      111.62      WA\n",
       "48   23.8     8.092    6.664  ...       992.61      152.56      WV\n",
       "49   13.8     4.968    4.554  ...       670.31      106.62      WI\n",
       "50   17.4     7.308    5.568  ...       791.14      122.04      WY\n",
       "\n",
       "[51 rows x 8 columns]>"
      ]
     },
     "execution_count": 41,
     "metadata": {},
     "output_type": "execute_result"
    }
   ],
   "source": [
    "import seaborn as sns \n",
    "df = sns.load_dataset(\"car_crashes\")\n",
    "df.columns\n",
    "df.info"
   ]
  },
  {
   "cell_type": "code",
   "execution_count": 42,
   "id": "f0568758",
   "metadata": {},
   "outputs": [
    {
     "data": {
      "text/plain": [
       "['NUM_TOTAL',\n",
       " 'NUM_SPEEDING',\n",
       " 'NUM_ALCOHOL',\n",
       " 'NUM_NOT_DISTRACTED',\n",
       " 'NUM_NO_PREVIOUS',\n",
       " 'NUM_INS_PREMIUM',\n",
       " 'NUM_INS_LOSSES',\n",
       " 'ABBREV']"
      ]
     },
     "execution_count": 42,
     "metadata": {},
     "output_type": "execute_result"
    }
   ],
   "source": [
    "[\"NUM_\" + col.upper() if df[col].dtype != \"O\" else col.upper() for col in df.columns]\n",
    "# ['NUM_' + col.upper() for col in df.columns if df[col].dtype != 'O' ]"
   ]
  },
  {
   "cell_type": "markdown",
   "id": "364d7dfb",
   "metadata": {},
   "source": [
    "###### List Comprehension yapısı kullanarak car_crashes verisinde isminde \"no\" barındırmayan değişkenlerin isimlerinin sonuna \"FLAG\" yazınız"
   ]
  },
  {
   "cell_type": "code",
   "execution_count": 43,
   "id": "e0810a88",
   "metadata": {},
   "outputs": [
    {
     "data": {
      "text/plain": [
       "['TOTAL_FLAG',\n",
       " 'SPEEDING_FLAG',\n",
       " 'ALCOHOL_FLAG',\n",
       " 'NOT_DISTRACTED',\n",
       " 'NO_PREVIOUS',\n",
       " 'INS_PREMIUM_FLAG',\n",
       " 'INS_LOSSES_FLAG',\n",
       " 'ABBREV_FLAG']"
      ]
     },
     "execution_count": 43,
     "metadata": {},
     "output_type": "execute_result"
    }
   ],
   "source": [
    "[col.upper() + '_FLAG' if 'no' not in col else col.upper() for col in df.columns]"
   ]
  },
  {
   "cell_type": "markdown",
   "id": "58ef060d",
   "metadata": {},
   "source": [
    "##### List Comprehension yapısı kullanarak aşağıda verilen değişken isimlerinden FARKLI olan değişkenlerin isimlerini seçiniz ve yeni bir dataframe oluşturunuz."
   ]
  },
  {
   "cell_type": "code",
   "execution_count": 47,
   "id": "f2ebc1e0",
   "metadata": {},
   "outputs": [],
   "source": [
    "og_list = ['abbrev', 'no_previous']"
   ]
  },
  {
   "cell_type": "code",
   "execution_count": 56,
   "id": "f87d6da2",
   "metadata": {},
   "outputs": [
    {
     "data": {
      "text/html": [
       "<div>\n",
       "<style scoped>\n",
       "    .dataframe tbody tr th:only-of-type {\n",
       "        vertical-align: middle;\n",
       "    }\n",
       "\n",
       "    .dataframe tbody tr th {\n",
       "        vertical-align: top;\n",
       "    }\n",
       "\n",
       "    .dataframe thead th {\n",
       "        text-align: right;\n",
       "    }\n",
       "</style>\n",
       "<table border=\"1\" class=\"dataframe\">\n",
       "  <thead>\n",
       "    <tr style=\"text-align: right;\">\n",
       "      <th></th>\n",
       "      <th>total</th>\n",
       "      <th>speeding</th>\n",
       "      <th>alcohol</th>\n",
       "      <th>not_distracted</th>\n",
       "      <th>ins_premium</th>\n",
       "      <th>ins_losses</th>\n",
       "    </tr>\n",
       "  </thead>\n",
       "  <tbody>\n",
       "    <tr>\n",
       "      <th>0</th>\n",
       "      <td>18.8</td>\n",
       "      <td>7.332</td>\n",
       "      <td>5.640</td>\n",
       "      <td>18.048</td>\n",
       "      <td>784.55</td>\n",
       "      <td>145.08</td>\n",
       "    </tr>\n",
       "    <tr>\n",
       "      <th>1</th>\n",
       "      <td>18.1</td>\n",
       "      <td>7.421</td>\n",
       "      <td>4.525</td>\n",
       "      <td>16.290</td>\n",
       "      <td>1053.48</td>\n",
       "      <td>133.93</td>\n",
       "    </tr>\n",
       "    <tr>\n",
       "      <th>2</th>\n",
       "      <td>18.6</td>\n",
       "      <td>6.510</td>\n",
       "      <td>5.208</td>\n",
       "      <td>15.624</td>\n",
       "      <td>899.47</td>\n",
       "      <td>110.35</td>\n",
       "    </tr>\n",
       "    <tr>\n",
       "      <th>3</th>\n",
       "      <td>22.4</td>\n",
       "      <td>4.032</td>\n",
       "      <td>5.824</td>\n",
       "      <td>21.056</td>\n",
       "      <td>827.34</td>\n",
       "      <td>142.39</td>\n",
       "    </tr>\n",
       "    <tr>\n",
       "      <th>4</th>\n",
       "      <td>12.0</td>\n",
       "      <td>4.200</td>\n",
       "      <td>3.360</td>\n",
       "      <td>10.920</td>\n",
       "      <td>878.41</td>\n",
       "      <td>165.63</td>\n",
       "    </tr>\n",
       "  </tbody>\n",
       "</table>\n",
       "</div>"
      ],
      "text/plain": [
       "   total  speeding  alcohol  not_distracted  ins_premium  ins_losses\n",
       "0   18.8     7.332    5.640          18.048       784.55      145.08\n",
       "1   18.1     7.421    4.525          16.290      1053.48      133.93\n",
       "2   18.6     6.510    5.208          15.624       899.47      110.35\n",
       "3   22.4     4.032    5.824          21.056       827.34      142.39\n",
       "4   12.0     4.200    3.360          10.920       878.41      165.63"
      ]
     },
     "execution_count": 56,
     "metadata": {},
     "output_type": "execute_result"
    }
   ],
   "source": [
    "new_col = [col for col in df.columns if col not in og_list]\n",
    "new_df = df[new_col]\n",
    "new_df.head()"
   ]
  },
  {
   "cell_type": "code",
   "execution_count": null,
   "id": "1e542e16",
   "metadata": {},
   "outputs": [],
   "source": []
  }
 ],
 "metadata": {
  "kernelspec": {
   "display_name": "Python 3 (ipykernel)",
   "language": "python",
   "name": "python3"
  },
  "language_info": {
   "codemirror_mode": {
    "name": "ipython",
    "version": 3
   },
   "file_extension": ".py",
   "mimetype": "text/x-python",
   "name": "python",
   "nbconvert_exporter": "python",
   "pygments_lexer": "ipython3",
   "version": "3.9.13"
  }
 },
 "nbformat": 4,
 "nbformat_minor": 5
}
