{
 "cells": [
  {
   "cell_type": "markdown",
   "id": "076f0f68",
   "metadata": {},
   "source": [
    "###### Verilen değerlerin veri yapılarını inceleyin."
   ]
  },
  {
   "cell_type": "code",
   "execution_count": 9,
   "id": "a14c6896",
   "metadata": {},
   "outputs": [],
   "source": [
    "x = 8\n",
    "y = 3.2\n",
    "z = 8j + 18\n",
    "a = \"Hello World\"\n",
    "b = True\n",
    "c = 23 < 22\n",
    "l = [1,2,3,4]\n",
    "d = {\"Name\":\"Jake\",\n",
    "    \"Age\": 27,\n",
    "     \"Adress\":\"Downtown\"}\n",
    "t = (\"Machine Learning\", \"Data Science\")\n",
    "s = {\"Python\",\"Machine Learning\",\"Data Science\"}"
   ]
  },
  {
   "cell_type": "code",
   "execution_count": 12,
   "id": "a7cdf91e",
   "metadata": {},
   "outputs": [
    {
     "name": "stdout",
     "output_type": "stream",
     "text": [
      "8 Turu:  <class 'int'>\n",
      "****\n",
      "3.2 Turu:  <class 'float'>\n",
      "****\n",
      "(18+8j) Turu:  <class 'complex'>\n",
      "****\n",
      "Hello World Turu:  <class 'str'>\n",
      "****\n",
      "True Turu:  <class 'bool'>\n",
      "****\n",
      "False Turu:  <class 'bool'>\n",
      "****\n",
      "[1, 2, 3, 4] Turu:  <class 'list'>\n",
      "****\n",
      "{'Name': 'Jake', 'Age': 27, 'Adress': 'Downtown'} Turu:  <class 'dict'>\n",
      "****\n",
      "('Machine Learning', 'Data Science') Turu:  <class 'tuple'>\n",
      "****\n",
      "{'Data Science', 'Machine Learning', 'Python'} Turu:  <class 'set'>\n",
      "****\n"
     ]
    }
   ],
   "source": [
    "def tip_sorgu(data):\n",
    "    print(data,\"Turu: \",type(data))\n",
    "    print(\"****\")\n",
    "\n",
    "tip_sorgu(x)\n",
    "tip_sorgu(y)\n",
    "tip_sorgu(z)\n",
    "tip_sorgu(a)\n",
    "tip_sorgu(b)\n",
    "tip_sorgu(c)\n",
    "tip_sorgu(l)\n",
    "tip_sorgu(d)\n",
    "tip_sorgu(t)\n",
    "tip_sorgu(s)\n"
   ]
  },
  {
   "cell_type": "markdown",
   "id": "70a78d00",
   "metadata": {},
   "source": [
    "###### Verilen string ifadenin tüm harflerini büyük harfe çeviriniz. Virgül ve nokta yerine space koyunuz, kelime kelime ayırınız."
   ]
  },
  {
   "cell_type": "code",
   "execution_count": 21,
   "id": "cf235810",
   "metadata": {},
   "outputs": [],
   "source": [
    "text = \"The goal is to turn data into information,and information into insight.\""
   ]
  },
  {
   "cell_type": "code",
   "execution_count": 28,
   "id": "4bd6d4cd",
   "metadata": {},
   "outputs": [
    {
     "data": {
      "text/plain": [
       "['THE',\n",
       " 'GOAL',\n",
       " 'IS',\n",
       " 'TO',\n",
       " 'TURN',\n",
       " 'DATA',\n",
       " 'INTO',\n",
       " 'INFORMATION',\n",
       " 'AND',\n",
       " 'INFORMATION',\n",
       " 'INTO',\n",
       " 'INSIGHT']"
      ]
     },
     "execution_count": 28,
     "metadata": {},
     "output_type": "execute_result"
    }
   ],
   "source": [
    "text.upper().replace(\".\",\" \").replace(\",\",\" \").split()"
   ]
  },
  {
   "cell_type": "markdown",
   "id": "d356dd9c",
   "metadata": {},
   "source": [
    "###### Verilen listeye aşağıdaki adımları uygulayınız.\n",
    "###### Adım 1: Verilen listenin eleman sayısına bakınız.\n",
    "###### Adım 2: Sıfırıncı ve onuncu indeksteki elemanları çağırınız.\n",
    "###### Adım 3: Verilen liste üzerinden [\"D\", \"A\", \"T\", \"A\"] listesi oluşturunuz.\n",
    "###### Adım 4: Sekizinci indeksteki elemanı siliniz.\n",
    "###### Verilen listeye aşağıdaki adımları uygulayınız.\n",
    "###### Adım 5: Yeni bir eleman ekleyiniz.\n",
    "###### Adım 6: Sekizinci indekse \"N\" elemanını tekrar ekleyiniz."
   ]
  },
  {
   "cell_type": "code",
   "execution_count": 50,
   "id": "437ca09f",
   "metadata": {},
   "outputs": [],
   "source": [
    "text = ['D','A','T','A','S','C','I','E','N','C','E']"
   ]
  },
  {
   "cell_type": "code",
   "execution_count": 51,
   "id": "30904dc5",
   "metadata": {},
   "outputs": [
    {
     "name": "stdout",
     "output_type": "stream",
     "text": [
      "Eleman sayisi: 11\n"
     ]
    }
   ],
   "source": [
    "print(\"Eleman sayisi:\",len(text))"
   ]
  },
  {
   "cell_type": "code",
   "execution_count": 52,
   "id": "bc7d7162",
   "metadata": {},
   "outputs": [
    {
     "name": "stdout",
     "output_type": "stream",
     "text": [
      "0. indeks: D\n",
      "10. indeks: E\n"
     ]
    }
   ],
   "source": [
    "print(f\"0. indeks: {text[0]}\")\n",
    "print(f\"10. indeks: {text[10]}\")"
   ]
  },
  {
   "cell_type": "code",
   "execution_count": 53,
   "id": "900c7f07",
   "metadata": {},
   "outputs": [
    {
     "data": {
      "text/plain": [
       "['D', 'A', 'T', 'A']"
      ]
     },
     "execution_count": 53,
     "metadata": {},
     "output_type": "execute_result"
    }
   ],
   "source": [
    "text[0:4]"
   ]
  },
  {
   "cell_type": "code",
   "execution_count": 54,
   "id": "b31511d6",
   "metadata": {},
   "outputs": [
    {
     "data": {
      "text/plain": [
       "'N'"
      ]
     },
     "execution_count": 54,
     "metadata": {},
     "output_type": "execute_result"
    }
   ],
   "source": [
    "text.pop(8)"
   ]
  },
  {
   "cell_type": "code",
   "execution_count": 55,
   "id": "7a5cfaef",
   "metadata": {},
   "outputs": [
    {
     "data": {
      "text/plain": [
       "['D', 'A', 'T', 'A', 'S', 'C', 'I', 'E', 'C', 'E']"
      ]
     },
     "execution_count": 55,
     "metadata": {},
     "output_type": "execute_result"
    }
   ],
   "source": [
    "text"
   ]
  },
  {
   "cell_type": "code",
   "execution_count": 56,
   "id": "e02eab8a",
   "metadata": {},
   "outputs": [],
   "source": [
    "text.append(\"X\")"
   ]
  },
  {
   "cell_type": "code",
   "execution_count": 57,
   "id": "d2cb6405",
   "metadata": {},
   "outputs": [
    {
     "data": {
      "text/plain": [
       "['D', 'A', 'T', 'A', 'S', 'C', 'I', 'E', 'C', 'E', 'X']"
      ]
     },
     "execution_count": 57,
     "metadata": {},
     "output_type": "execute_result"
    }
   ],
   "source": [
    "text"
   ]
  },
  {
   "cell_type": "code",
   "execution_count": 58,
   "id": "7e66d896",
   "metadata": {},
   "outputs": [],
   "source": [
    "text.insert(8,'N')"
   ]
  },
  {
   "cell_type": "code",
   "execution_count": 60,
   "id": "2b9934b3",
   "metadata": {},
   "outputs": [
    {
     "data": {
      "text/plain": [
       "['D', 'A', 'T', 'A', 'S', 'C', 'I', 'E', 'N', 'C', 'E', 'X']"
      ]
     },
     "execution_count": 60,
     "metadata": {},
     "output_type": "execute_result"
    }
   ],
   "source": [
    "text"
   ]
  },
  {
   "cell_type": "markdown",
   "id": "3f4877bd",
   "metadata": {},
   "source": [
    "###### Verilen sözlük yapısına aşağıdaki adımları uygulayınız.\n",
    "###### Adım 1: Key değerlerine erişiniz.\n",
    "###### Adım 2: Value'lara erişiniz.\n",
    "###### Adım 3: Daisy key'ine ait 12 değerini 13 olarak güncelleyiniz.\n",
    "###### Adım 4: Key değeri Ahmet value değeri [Turkey,24] olan yeni bir değer ekleyiniz.\n",
    "###### Adım 5: Antonio'yu dictionary'den siliniz"
   ]
  },
  {
   "cell_type": "code",
   "execution_count": 61,
   "id": "65f46725",
   "metadata": {},
   "outputs": [],
   "source": [
    "dict = {\"Christian\":[\"America\",18],\n",
    "        \"Daisy\":[\"England\",12],\n",
    "        \"Antonio\":[\"Spain\",22],\n",
    "        \"Dante\":[\"Italy\",25]}"
   ]
  },
  {
   "cell_type": "code",
   "execution_count": 62,
   "id": "2adf7add",
   "metadata": {},
   "outputs": [
    {
     "data": {
      "text/plain": [
       "dict_keys(['Christian', 'Daisy', 'Antonio', 'Dante'])"
      ]
     },
     "execution_count": 62,
     "metadata": {},
     "output_type": "execute_result"
    }
   ],
   "source": [
    "dict.keys()"
   ]
  },
  {
   "cell_type": "code",
   "execution_count": 64,
   "id": "d5db2a16",
   "metadata": {},
   "outputs": [
    {
     "data": {
      "text/plain": [
       "dict_values([['America', 18], ['England', 12], ['Spain', 22], ['Italy', 25]])"
      ]
     },
     "execution_count": 64,
     "metadata": {},
     "output_type": "execute_result"
    }
   ],
   "source": [
    "dict.values()"
   ]
  },
  {
   "cell_type": "code",
   "execution_count": 67,
   "id": "7f508ca2",
   "metadata": {},
   "outputs": [
    {
     "data": {
      "text/plain": [
       "{'Christian': ['America', 18],\n",
       " 'Daisy': ['England', 13],\n",
       " 'Antonio': ['Spain', 22],\n",
       " 'Dante': ['Italy', 25]}"
      ]
     },
     "execution_count": 67,
     "metadata": {},
     "output_type": "execute_result"
    }
   ],
   "source": [
    "dict.update({'Daisy':['England',13]})\n",
    "dict"
   ]
  },
  {
   "cell_type": "code",
   "execution_count": 68,
   "id": "5ba1d257",
   "metadata": {},
   "outputs": [
    {
     "data": {
      "text/plain": [
       "{'Christian': ['America', 18],\n",
       " 'Daisy': ['England', 13],\n",
       " 'Antonio': ['Spain', 22],\n",
       " 'Dante': ['Italy', 25],\n",
       " 'Ahmet': ['Turkey', 24]}"
      ]
     },
     "execution_count": 68,
     "metadata": {},
     "output_type": "execute_result"
    }
   ],
   "source": [
    "dict.update({'Ahmet':['Turkey',24]})\n",
    "dict"
   ]
  },
  {
   "cell_type": "code",
   "execution_count": 69,
   "id": "04fae0f9",
   "metadata": {},
   "outputs": [
    {
     "data": {
      "text/plain": [
       "['Spain', 22]"
      ]
     },
     "execution_count": 69,
     "metadata": {},
     "output_type": "execute_result"
    }
   ],
   "source": [
    "dict.pop(\"Antonio\")"
   ]
  },
  {
   "cell_type": "code",
   "execution_count": 70,
   "id": "2ffc83c4",
   "metadata": {},
   "outputs": [
    {
     "data": {
      "text/plain": [
       "{'Christian': ['America', 18],\n",
       " 'Daisy': ['England', 13],\n",
       " 'Dante': ['Italy', 25],\n",
       " 'Ahmet': ['Turkey', 24]}"
      ]
     },
     "execution_count": 70,
     "metadata": {},
     "output_type": "execute_result"
    }
   ],
   "source": [
    "dict"
   ]
  },
  {
   "cell_type": "markdown",
   "id": "a058ad53",
   "metadata": {},
   "source": [
    "###### Argüman olarak bir liste alan, listenin içerisindeki tek ve çift sayıları ayrı listelere atayan ve bu listeleri return eden fonksiyon yazınız."
   ]
  },
  {
   "cell_type": "code",
   "execution_count": 82,
   "id": "eab0a18b",
   "metadata": {},
   "outputs": [],
   "source": [
    "l = [2,13,18,93,22]"
   ]
  },
  {
   "cell_type": "code",
   "execution_count": 83,
   "id": "32cd083a",
   "metadata": {},
   "outputs": [],
   "source": [
    "def tek_cift(list):\n",
    "    arr_tek = []\n",
    "    arr_cift = []\n",
    "    for eleman in list:\n",
    "        if eleman % 2 == 0:\n",
    "            arr_cift.append(eleman)\n",
    "        else:\n",
    "            arr_tek.append(eleman)\n",
    "    return arr_cift,arr_tek"
   ]
  },
  {
   "cell_type": "code",
   "execution_count": 88,
   "id": "edcfc4f4",
   "metadata": {},
   "outputs": [],
   "source": [
    " cift, tek = tek_cift(l)"
   ]
  },
  {
   "cell_type": "code",
   "execution_count": 113,
   "id": "28fd5273",
   "metadata": {},
   "outputs": [],
   "source": [
    "# List comp.\n",
    "def func(list):\n",
    "    cift_list = [x for x in list if x % 2 == 0]\n",
    "    tek_list = [x for x in list if x % 2 != 0]\n",
    "\n",
    "    return cift_list, tek_list\n",
    "\n",
    "cift, tek = func(l)"
   ]
  },
  {
   "cell_type": "markdown",
   "id": "2287b3c9",
   "metadata": {},
   "source": [
    "###### Aşağıda verilen listede mühendislik ve tıp fakülterinde dereceye giren öğrencilerin isimleri bulunmaktadır. Sırasıyla ilk üç öğrenci mühendislik fakültesinin başarı sırasını temsil ederken son üç öğrenci de tıp fakültesi öğrenci sırasına aittir. Enumarate kullanarak öğrenci derecelerini fakülte özelinde yazdırınız."
   ]
  },
  {
   "cell_type": "code",
   "execution_count": 78,
   "id": "fca1a9f2",
   "metadata": {},
   "outputs": [],
   "source": [
    "ogrenciler = ['Ali','Veli','Ayse','Talat','Zeynep','Ece']"
   ]
  },
  {
   "cell_type": "code",
   "execution_count": 94,
   "id": "c9f79614",
   "metadata": {},
   "outputs": [
    {
     "name": "stdout",
     "output_type": "stream",
     "text": [
      "Muhendislik Fakultesi 1. ogrenci: Ali\n",
      "Muhendislik Fakultesi 2. ogrenci: Veli\n",
      "Muhendislik Fakultesi 3. ogrenci: Ayse\n",
      "Tip Fakultesi 1. ogrenci: Talat\n",
      "Tip Fakultesi 2. ogrenci: Zeynep\n",
      "Tip Fakultesi 3. ogrenci: Ece\n"
     ]
    }
   ],
   "source": [
    "for indeks, eleman in enumerate(ogrenciler,1):\n",
    "    if indeks<4:\n",
    "        print(f\"Muhendislik Fakultesi {indeks}. ogrenci: {eleman}\")\n",
    "    else:\n",
    "        print(f\"Tip Fakultesi {indeks-3}. ogrenci: {eleman}\")"
   ]
  },
  {
   "cell_type": "markdown",
   "id": "671c3128",
   "metadata": {},
   "source": [
    "###### Aşağıda 3 adet liste verilmiştir. Listelerde sırası ile bir dersin kodu, kredisi ve kontenjan bilgileri yer almaktadır. Zip kullanarak ders bilgilerini bastırınız."
   ]
  },
  {
   "cell_type": "code",
   "execution_count": 103,
   "id": "d6c1cae7",
   "metadata": {},
   "outputs": [],
   "source": [
    "ders_kodu =[\"CMP1005\",\"PSY1001\",\"HUK1005\",\"SEN2204\"]\n",
    "kredi = [3,4,2,4]\n",
    "kontenjan = [30,75,150,25]"
   ]
  },
  {
   "cell_type": "code",
   "execution_count": 104,
   "id": "7c1c1334",
   "metadata": {},
   "outputs": [
    {
     "name": "stdout",
     "output_type": "stream",
     "text": [
      "Kredisi 3 olan CMP1005 kodlu dersin kontenjani 30 kisidir.\n",
      "Kredisi 4 olan PSY1001 kodlu dersin kontenjani 75 kisidir.\n",
      "Kredisi 2 olan HUK1005 kodlu dersin kontenjani 150 kisidir.\n",
      "Kredisi 4 olan SEN2204 kodlu dersin kontenjani 25 kisidir.\n"
     ]
    }
   ],
   "source": [
    "for kod, kredi, kontenjan in zip(ders_kodu,kredi,kontenjan):\n",
    "    print(f\"Kredisi {kredi} olan {kod} kodlu dersin kontenjani {kontenjan} kisidir.\")"
   ]
  },
  {
   "cell_type": "markdown",
   "id": "f41c51f7",
   "metadata": {},
   "source": [
    "###### Aşağıda 2 adet set verilmiştir. Sizden istenilen eğer 1. küme 2. kümeyi kapsiyor ise ortak elemanlarını eğer kapsamıyor ise 2. kümenin 1. kümeden farkını yazdıracak fonksiyonu tanımlamanız beklenmektedir"
   ]
  },
  {
   "cell_type": "code",
   "execution_count": 105,
   "id": "e1e5a5b5",
   "metadata": {},
   "outputs": [],
   "source": [
    "kume1 = set(['data','python'])\n",
    "kume2 = set(['data','function','qcut','lambda','python','miuul'])"
   ]
  },
  {
   "cell_type": "code",
   "execution_count": 109,
   "id": "e0a88436",
   "metadata": {},
   "outputs": [],
   "source": [
    "def kume(kume1, kume2):\n",
    "    if kume1.issuperset(kume2):\n",
    "        print(kume1.intersection(kume2))\n",
    "    else:\n",
    "        print(kume2.difference(kume1))"
   ]
  },
  {
   "cell_type": "code",
   "execution_count": 110,
   "id": "06c71cf8",
   "metadata": {},
   "outputs": [
    {
     "name": "stdout",
     "output_type": "stream",
     "text": [
      "{'miuul', 'function', 'lambda', 'qcut'}\n"
     ]
    }
   ],
   "source": [
    "kume(kume1,kume2)"
   ]
  },
  {
   "cell_type": "code",
   "execution_count": null,
   "id": "81d151f8",
   "metadata": {},
   "outputs": [],
   "source": []
  }
 ],
 "metadata": {
  "kernelspec": {
   "display_name": "Python 3 (ipykernel)",
   "language": "python",
   "name": "python3"
  },
  "language_info": {
   "codemirror_mode": {
    "name": "ipython",
    "version": 3
   },
   "file_extension": ".py",
   "mimetype": "text/x-python",
   "name": "python",
   "nbconvert_exporter": "python",
   "pygments_lexer": "ipython3",
   "version": "3.9.13"
  }
 },
 "nbformat": 4,
 "nbformat_minor": 5
}
