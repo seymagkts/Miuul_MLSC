{
 "cells": [
  {
   "cell_type": "markdown",
   "id": "a652e83e",
   "metadata": {},
   "source": [
    "### Denetimsiz/Gözetimsiz Öğrenme (Unsupervised Learning)"
   ]
  },
  {
   "cell_type": "code",
   "execution_count": 1,
   "id": "bb46802e",
   "metadata": {},
   "outputs": [],
   "source": [
    "# pip install yellowbrick"
   ]
  },
  {
   "cell_type": "code",
   "execution_count": 2,
   "id": "19f800f1",
   "metadata": {},
   "outputs": [],
   "source": [
    "import numpy as np\n",
    "import pandas as pd\n",
    "import matplotlib.pyplot as plt\n",
    "from sklearn.cluster import KMeans # Kmeans \n",
    "from sklearn.preprocessing import MinMaxScaler, StandardScaler\n",
    "from yellowbrick.cluster import KElbowVisualizer\n",
    "from scipy.cluster.hierarchy import linkage, dendrogram # hiyerarşik kümeleme yöntemi\n",
    "from sklearn.decomposition import PCA # temel bilesen yöntemi"
   ]
  },
  {
   "cell_type": "code",
   "execution_count": 3,
   "id": "1a7a83f5",
   "metadata": {},
   "outputs": [
    {
     "data": {
      "text/html": [
       "<div>\n",
       "<style scoped>\n",
       "    .dataframe tbody tr th:only-of-type {\n",
       "        vertical-align: middle;\n",
       "    }\n",
       "\n",
       "    .dataframe tbody tr th {\n",
       "        vertical-align: top;\n",
       "    }\n",
       "\n",
       "    .dataframe thead th {\n",
       "        text-align: right;\n",
       "    }\n",
       "</style>\n",
       "<table border=\"1\" class=\"dataframe\">\n",
       "  <thead>\n",
       "    <tr style=\"text-align: right;\">\n",
       "      <th></th>\n",
       "      <th>Murder</th>\n",
       "      <th>Assault</th>\n",
       "      <th>UrbanPop</th>\n",
       "      <th>Rape</th>\n",
       "    </tr>\n",
       "  </thead>\n",
       "  <tbody>\n",
       "    <tr>\n",
       "      <th>Alabama</th>\n",
       "      <td>13.2</td>\n",
       "      <td>236</td>\n",
       "      <td>58</td>\n",
       "      <td>21.2</td>\n",
       "    </tr>\n",
       "    <tr>\n",
       "      <th>Alaska</th>\n",
       "      <td>10.0</td>\n",
       "      <td>263</td>\n",
       "      <td>48</td>\n",
       "      <td>44.5</td>\n",
       "    </tr>\n",
       "    <tr>\n",
       "      <th>Arizona</th>\n",
       "      <td>8.1</td>\n",
       "      <td>294</td>\n",
       "      <td>80</td>\n",
       "      <td>31.0</td>\n",
       "    </tr>\n",
       "    <tr>\n",
       "      <th>Arkansas</th>\n",
       "      <td>8.8</td>\n",
       "      <td>190</td>\n",
       "      <td>50</td>\n",
       "      <td>19.5</td>\n",
       "    </tr>\n",
       "    <tr>\n",
       "      <th>California</th>\n",
       "      <td>9.0</td>\n",
       "      <td>276</td>\n",
       "      <td>91</td>\n",
       "      <td>40.6</td>\n",
       "    </tr>\n",
       "  </tbody>\n",
       "</table>\n",
       "</div>"
      ],
      "text/plain": [
       "            Murder  Assault  UrbanPop  Rape\n",
       "Alabama       13.2      236        58  21.2\n",
       "Alaska        10.0      263        48  44.5\n",
       "Arizona        8.1      294        80  31.0\n",
       "Arkansas       8.8      190        50  19.5\n",
       "California     9.0      276        91  40.6"
      ]
     },
     "execution_count": 3,
     "metadata": {},
     "output_type": "execute_result"
    }
   ],
   "source": [
    "df = pd.read_csv(\"USArrests.csv\",index_col=0) # ilk sutun indeksi temsil eder bu yüzden ilk satırı indeks kolonu yaptık\n",
    "df.head()"
   ]
  },
  {
   "cell_type": "code",
   "execution_count": 4,
   "id": "68c405a1",
   "metadata": {},
   "outputs": [
    {
     "data": {
      "text/plain": [
       "Murder      False\n",
       "Assault     False\n",
       "UrbanPop    False\n",
       "Rape        False\n",
       "dtype: bool"
      ]
     },
     "execution_count": 4,
     "metadata": {},
     "output_type": "execute_result"
    }
   ],
   "source": [
    "df.isnull().any()"
   ]
  },
  {
   "cell_type": "code",
   "execution_count": 5,
   "id": "a9a17c7d",
   "metadata": {},
   "outputs": [
    {
     "data": {
      "text/html": [
       "<div>\n",
       "<style scoped>\n",
       "    .dataframe tbody tr th:only-of-type {\n",
       "        vertical-align: middle;\n",
       "    }\n",
       "\n",
       "    .dataframe tbody tr th {\n",
       "        vertical-align: top;\n",
       "    }\n",
       "\n",
       "    .dataframe thead th {\n",
       "        text-align: right;\n",
       "    }\n",
       "</style>\n",
       "<table border=\"1\" class=\"dataframe\">\n",
       "  <thead>\n",
       "    <tr style=\"text-align: right;\">\n",
       "      <th></th>\n",
       "      <th>count</th>\n",
       "      <th>mean</th>\n",
       "      <th>std</th>\n",
       "      <th>min</th>\n",
       "      <th>25%</th>\n",
       "      <th>50%</th>\n",
       "      <th>75%</th>\n",
       "      <th>max</th>\n",
       "    </tr>\n",
       "  </thead>\n",
       "  <tbody>\n",
       "    <tr>\n",
       "      <th>Murder</th>\n",
       "      <td>50.0</td>\n",
       "      <td>7.788</td>\n",
       "      <td>4.355510</td>\n",
       "      <td>0.8</td>\n",
       "      <td>4.075</td>\n",
       "      <td>7.25</td>\n",
       "      <td>11.250</td>\n",
       "      <td>17.4</td>\n",
       "    </tr>\n",
       "    <tr>\n",
       "      <th>Assault</th>\n",
       "      <td>50.0</td>\n",
       "      <td>170.760</td>\n",
       "      <td>83.337661</td>\n",
       "      <td>45.0</td>\n",
       "      <td>109.000</td>\n",
       "      <td>159.00</td>\n",
       "      <td>249.000</td>\n",
       "      <td>337.0</td>\n",
       "    </tr>\n",
       "    <tr>\n",
       "      <th>UrbanPop</th>\n",
       "      <td>50.0</td>\n",
       "      <td>65.540</td>\n",
       "      <td>14.474763</td>\n",
       "      <td>32.0</td>\n",
       "      <td>54.500</td>\n",
       "      <td>66.00</td>\n",
       "      <td>77.750</td>\n",
       "      <td>91.0</td>\n",
       "    </tr>\n",
       "    <tr>\n",
       "      <th>Rape</th>\n",
       "      <td>50.0</td>\n",
       "      <td>21.232</td>\n",
       "      <td>9.366385</td>\n",
       "      <td>7.3</td>\n",
       "      <td>15.075</td>\n",
       "      <td>20.10</td>\n",
       "      <td>26.175</td>\n",
       "      <td>46.0</td>\n",
       "    </tr>\n",
       "  </tbody>\n",
       "</table>\n",
       "</div>"
      ],
      "text/plain": [
       "          count     mean        std   min      25%     50%      75%    max\n",
       "Murder     50.0    7.788   4.355510   0.8    4.075    7.25   11.250   17.4\n",
       "Assault    50.0  170.760  83.337661  45.0  109.000  159.00  249.000  337.0\n",
       "UrbanPop   50.0   65.540  14.474763  32.0   54.500   66.00   77.750   91.0\n",
       "Rape       50.0   21.232   9.366385   7.3   15.075   20.10   26.175   46.0"
      ]
     },
     "execution_count": 5,
     "metadata": {},
     "output_type": "execute_result"
    }
   ],
   "source": [
    "df.describe().T"
   ]
  },
  {
   "cell_type": "code",
   "execution_count": 6,
   "id": "984fdefe",
   "metadata": {},
   "outputs": [
    {
     "name": "stdout",
     "output_type": "stream",
     "text": [
      "<class 'pandas.core.frame.DataFrame'>\n",
      "Index: 50 entries, Alabama to Wyoming\n",
      "Data columns (total 4 columns):\n",
      " #   Column    Non-Null Count  Dtype  \n",
      "---  ------    --------------  -----  \n",
      " 0   Murder    50 non-null     float64\n",
      " 1   Assault   50 non-null     int64  \n",
      " 2   UrbanPop  50 non-null     int64  \n",
      " 3   Rape      50 non-null     float64\n",
      "dtypes: float64(2), int64(2)\n",
      "memory usage: 2.0+ KB\n"
     ]
    }
   ],
   "source": [
    "df.info()"
   ]
  },
  {
   "cell_type": "code",
   "execution_count": 7,
   "id": "95e02e88",
   "metadata": {},
   "outputs": [
    {
     "data": {
      "text/plain": [
       "array([[0.74698795, 0.65410959, 0.44067797, 0.35917313],\n",
       "       [0.55421687, 0.74657534, 0.27118644, 0.96124031],\n",
       "       [0.43975904, 0.85273973, 0.81355932, 0.6124031 ],\n",
       "       [0.48192771, 0.49657534, 0.30508475, 0.31524548],\n",
       "       [0.4939759 , 0.79109589, 1.        , 0.86046512]])"
      ]
     },
     "execution_count": 7,
     "metadata": {},
     "output_type": "execute_result"
    }
   ],
   "source": [
    "# uzaklık temelli ve gradient descent temelli yöntemlerin kullanımındaki \n",
    "# süreçlerde değişkenleri standartlaştırılması önemlidir. KMeans de bunlardan biri.\n",
    "\n",
    "mms = MinMaxScaler((0,1))\n",
    "df = mms.fit_transform(df) # dataframe fit_transform edildiğinde artık nump array'e dönüşür\n",
    "df[0:5]"
   ]
  },
  {
   "cell_type": "markdown",
   "id": "cbe26db6",
   "metadata": {},
   "source": [
    "### KMeans"
   ]
  },
  {
   "cell_type": "code",
   "execution_count": 8,
   "id": "de0dca7b",
   "metadata": {},
   "outputs": [],
   "source": [
    "k_means = KMeans(n_clusters=4,random_state=17).fit(df) \n",
    "# sadece bağımsızlarla yani direkt veri seti ile fit edilir\n",
    "# n_clusters yani küme sayısını 4 verdik"
   ]
  },
  {
   "cell_type": "code",
   "execution_count": 9,
   "id": "03e30d44",
   "metadata": {},
   "outputs": [
    {
     "data": {
      "text/plain": [
       "{'algorithm': 'auto',\n",
       " 'copy_x': True,\n",
       " 'init': 'k-means++',\n",
       " 'max_iter': 300,\n",
       " 'n_clusters': 4,\n",
       " 'n_init': 10,\n",
       " 'random_state': 17,\n",
       " 'tol': 0.0001,\n",
       " 'verbose': 0}"
      ]
     },
     "execution_count": 9,
     "metadata": {},
     "output_type": "execute_result"
    }
   ],
   "source": [
    "k_means.get_params()"
   ]
  },
  {
   "cell_type": "code",
   "execution_count": 10,
   "id": "d078d0b6",
   "metadata": {},
   "outputs": [
    {
     "data": {
      "text/plain": [
       "4"
      ]
     },
     "execution_count": 10,
     "metadata": {},
     "output_type": "execute_result"
    }
   ],
   "source": [
    "k_means.n_clusters # kac adet küme var"
   ]
  },
  {
   "cell_type": "code",
   "execution_count": 11,
   "id": "63a4e8d6",
   "metadata": {},
   "outputs": [
    {
     "data": {
      "text/plain": [
       "array([[0.1686747 , 0.11485774, 0.34028683, 0.12601868],\n",
       "       [0.6124498 , 0.75      , 0.75423729, 0.67980189],\n",
       "       [0.30439405, 0.32937147, 0.70588235, 0.31098951],\n",
       "       [0.79141566, 0.6802226 , 0.36864407, 0.36466408]])"
      ]
     },
     "execution_count": 11,
     "metadata": {},
     "output_type": "execute_result"
    }
   ],
   "source": [
    "k_means.cluster_centers_ # bu kumelerin dört değişken için merkez değerleri"
   ]
  },
  {
   "cell_type": "code",
   "execution_count": 12,
   "id": "132f1c11",
   "metadata": {},
   "outputs": [
    {
     "data": {
      "text/plain": [
       "array([3, 1, 1, 3, 1, 1, 2, 2, 1, 3, 2, 0, 1, 2, 0, 2, 0, 3, 0, 1, 2, 1,\n",
       "       0, 3, 2, 0, 0, 1, 0, 2, 1, 1, 3, 0, 2, 2, 2, 2, 2, 3, 0, 3, 1, 2,\n",
       "       0, 2, 2, 0, 0, 2])"
      ]
     },
     "execution_count": 12,
     "metadata": {},
     "output_type": "execute_result"
    }
   ],
   "source": [
    "k_means.labels_ # değişkenlere karşılık gelen kümeler (kümeler 0, 1, 2 ve 3 olarak isimlenmiş)"
   ]
  },
  {
   "cell_type": "code",
   "execution_count": 13,
   "id": "38fc7f12",
   "metadata": {},
   "outputs": [
    {
     "data": {
      "text/plain": [
       "3.683456153585913"
      ]
     },
     "execution_count": 13,
     "metadata": {},
     "output_type": "execute_result"
    }
   ],
   "source": [
    "k_means.inertia_ # SSE/SSR/SSD (literatürde sahip oldugu bazı isimler) değeri"
   ]
  },
  {
   "cell_type": "markdown",
   "id": "bf06ff76",
   "metadata": {},
   "source": [
    "#### Optimum Küme Sayısını Belirleme"
   ]
  },
  {
   "cell_type": "code",
   "execution_count": 14,
   "id": "a3541869",
   "metadata": {},
   "outputs": [],
   "source": [
    "kmeans = KMeans()\n",
    "ssd = []\n",
    "K = range(1,30)"
   ]
  },
  {
   "cell_type": "code",
   "execution_count": 15,
   "id": "cc030ec3",
   "metadata": {},
   "outputs": [
    {
     "name": "stderr",
     "output_type": "stream",
     "text": [
      "C:\\Users\\seyma\\anaconda3\\lib\\site-packages\\sklearn\\cluster\\_kmeans.py:1036: UserWarning: KMeans is known to have a memory leak on Windows with MKL, when there are less chunks than available threads. You can avoid it by setting the environment variable OMP_NUM_THREADS=1.\n",
      "  warnings.warn(\n"
     ]
    }
   ],
   "source": [
    "for i in K:\n",
    "    kmeans = KMeans(n_clusters = i).fit(df)\n",
    "    ssd.append(kmeans.inertia_)"
   ]
  },
  {
   "cell_type": "code",
   "execution_count": 16,
   "id": "2ef245ec",
   "metadata": {},
   "outputs": [
    {
     "data": {
      "text/plain": [
       "[13.184122550256443,\n",
       " 6.5968938679461955,\n",
       " 5.010878493006417,\n",
       " 3.683456153585913,\n",
       " 3.1842618139677223,\n",
       " 2.8566826167870354,\n",
       " 2.6436115146069796,\n",
       " 2.3268788028371215,\n",
       " 2.0512635222757623,\n",
       " 1.8520668866823122,\n",
       " 1.6449550018456156,\n",
       " 1.5128770120345612,\n",
       " 1.466319988891884,\n",
       " 1.3214402631883462,\n",
       " 1.1963893808717838,\n",
       " 1.1772775141616973,\n",
       " 1.115296647579984,\n",
       " 1.0042997135301428,\n",
       " 0.9259084688074195,\n",
       " 0.8664448786384888,\n",
       " 0.8111834459611174,\n",
       " 0.730163343043775,\n",
       " 0.6710523771573194,\n",
       " 0.603860752664159,\n",
       " 0.5692371673416986,\n",
       " 0.5472017569113892,\n",
       " 0.48309409617720156,\n",
       " 0.4524187262892958,\n",
       " 0.4261064284127917]"
      ]
     },
     "execution_count": 16,
     "metadata": {},
     "output_type": "execute_result"
    }
   ],
   "source": [
    "ssd"
   ]
  },
  {
   "cell_type": "code",
   "execution_count": 17,
   "id": "0e3d2278",
   "metadata": {},
   "outputs": [
    {
     "data": {
      "image/png": "[encoded data removed]",
      "text/plain": [
       "<Figure size 800x550 with 1 Axes>"
      ]
     },
     "metadata": {},
     "output_type": "display_data"
    }
   ],
   "source": [
    "plt.plot(K,ssd,\"bx-\")\n",
    "plt.xlabel(\"K değerleri\")\n",
    "plt.ylabel(\"SSE/SSR/SSD\")\n",
    "plt.title(\"Optimum küme sayısı için Elbow\")\n",
    "plt.show()"
   ]
  },
  {
   "cell_type": "code",
   "execution_count": 18,
   "id": "30ae42a8",
   "metadata": {},
   "outputs": [],
   "source": [
    "#### küme sayısı arttıkça SSE/SSR/SSD değeri düşer. \n",
    "#### Ancak gözlem birimi kadar cluster olursa her değer tekil küme olmaya başlar. \n",
    "#### Bu yüzden sadece SSE/SSR/SSD değerine bakılarak küme sayısı seçilmez. \n",
    "#### Sadece bize bir karar yolu verir."
   ]
  },
  {
   "cell_type": "code",
   "execution_count": 19,
   "id": "c05a949b",
   "metadata": {},
   "outputs": [
    {
     "data": {
      "image/png": "[encoded data removed]",
      "text/plain": [
       "<Figure size 800x550 with 2 Axes>"
      ]
     },
     "metadata": {},
     "output_type": "display_data"
    },
    {
     "data": {
      "text/plain": [
       "<AxesSubplot:title={'center':'Distortion Score Elbow for KMeans Clustering'}, xlabel='k', ylabel='distortion score'>"
      ]
     },
     "execution_count": 19,
     "metadata": {},
     "output_type": "execute_result"
    }
   ],
   "source": [
    "kmeans = KMeans()\n",
    "elbow = KElbowVisualizer(kmeans, k=(2,20))\n",
    "elbow.fit(df)\n",
    "elbow.show()"
   ]
  },
  {
   "cell_type": "code",
   "execution_count": 20,
   "id": "bc48fe90",
   "metadata": {},
   "outputs": [
    {
     "data": {
      "text/plain": [
       "6"
      ]
     },
     "execution_count": 20,
     "metadata": {},
     "output_type": "execute_result"
    }
   ],
   "source": [
    "elbow.elbow_value_\n",
    "## küme sayısının 6 olmasını önerdi\n",
    "## eğrinin şiddetlendiği nokta"
   ]
  },
  {
   "cell_type": "markdown",
   "id": "3471bfe7",
   "metadata": {},
   "source": [
    "#### Final KMeans"
   ]
  },
  {
   "cell_type": "code",
   "execution_count": 21,
   "id": "362012bd",
   "metadata": {},
   "outputs": [],
   "source": [
    "kmeans = KMeans(n_clusters=elbow.elbow_value_).fit(df)"
   ]
  },
  {
   "cell_type": "code",
   "execution_count": 22,
   "id": "e185df20",
   "metadata": {},
   "outputs": [],
   "source": [
    "clusters = kmeans.labels_"
   ]
  },
  {
   "cell_type": "code",
   "execution_count": 23,
   "id": "16191e47",
   "metadata": {},
   "outputs": [],
   "source": [
    "df = pd.read_csv(\"USArrests.csv\",index_col=0) \n",
    "df[\"clusters\"] = clusters "
   ]
  },
  {
   "cell_type": "code",
   "execution_count": 24,
   "id": "9bb62585",
   "metadata": {},
   "outputs": [],
   "source": [
    "df[\"clusters\"] = df.clusters + 1"
   ]
  },
  {
   "cell_type": "code",
   "execution_count": 25,
   "id": "9c6e5c79",
   "metadata": {},
   "outputs": [
    {
     "data": {
      "text/html": [
       "<div>\n",
       "<style scoped>\n",
       "    .dataframe tbody tr th:only-of-type {\n",
       "        vertical-align: middle;\n",
       "    }\n",
       "\n",
       "    .dataframe tbody tr th {\n",
       "        vertical-align: top;\n",
       "    }\n",
       "\n",
       "    .dataframe thead th {\n",
       "        text-align: right;\n",
       "    }\n",
       "</style>\n",
       "<table border=\"1\" class=\"dataframe\">\n",
       "  <thead>\n",
       "    <tr style=\"text-align: right;\">\n",
       "      <th></th>\n",
       "      <th>Murder</th>\n",
       "      <th>Assault</th>\n",
       "      <th>UrbanPop</th>\n",
       "      <th>Rape</th>\n",
       "      <th>clusters</th>\n",
       "    </tr>\n",
       "  </thead>\n",
       "  <tbody>\n",
       "    <tr>\n",
       "      <th>Idaho</th>\n",
       "      <td>2.6</td>\n",
       "      <td>120</td>\n",
       "      <td>54</td>\n",
       "      <td>14.2</td>\n",
       "      <td>5</td>\n",
       "    </tr>\n",
       "    <tr>\n",
       "      <th>Iowa</th>\n",
       "      <td>2.2</td>\n",
       "      <td>56</td>\n",
       "      <td>57</td>\n",
       "      <td>11.3</td>\n",
       "      <td>5</td>\n",
       "    </tr>\n",
       "    <tr>\n",
       "      <th>Maine</th>\n",
       "      <td>2.1</td>\n",
       "      <td>83</td>\n",
       "      <td>51</td>\n",
       "      <td>7.8</td>\n",
       "      <td>5</td>\n",
       "    </tr>\n",
       "    <tr>\n",
       "      <th>Minnesota</th>\n",
       "      <td>2.7</td>\n",
       "      <td>72</td>\n",
       "      <td>66</td>\n",
       "      <td>14.9</td>\n",
       "      <td>5</td>\n",
       "    </tr>\n",
       "    <tr>\n",
       "      <th>Montana</th>\n",
       "      <td>6.0</td>\n",
       "      <td>109</td>\n",
       "      <td>53</td>\n",
       "      <td>16.4</td>\n",
       "      <td>5</td>\n",
       "    </tr>\n",
       "    <tr>\n",
       "      <th>New Hampshire</th>\n",
       "      <td>2.1</td>\n",
       "      <td>57</td>\n",
       "      <td>56</td>\n",
       "      <td>9.5</td>\n",
       "      <td>5</td>\n",
       "    </tr>\n",
       "    <tr>\n",
       "      <th>North Dakota</th>\n",
       "      <td>0.8</td>\n",
       "      <td>45</td>\n",
       "      <td>44</td>\n",
       "      <td>7.3</td>\n",
       "      <td>5</td>\n",
       "    </tr>\n",
       "    <tr>\n",
       "      <th>South Dakota</th>\n",
       "      <td>3.8</td>\n",
       "      <td>86</td>\n",
       "      <td>45</td>\n",
       "      <td>12.8</td>\n",
       "      <td>5</td>\n",
       "    </tr>\n",
       "    <tr>\n",
       "      <th>Vermont</th>\n",
       "      <td>2.2</td>\n",
       "      <td>48</td>\n",
       "      <td>32</td>\n",
       "      <td>11.2</td>\n",
       "      <td>5</td>\n",
       "    </tr>\n",
       "    <tr>\n",
       "      <th>West Virginia</th>\n",
       "      <td>5.7</td>\n",
       "      <td>81</td>\n",
       "      <td>39</td>\n",
       "      <td>9.3</td>\n",
       "      <td>5</td>\n",
       "    </tr>\n",
       "    <tr>\n",
       "      <th>Wisconsin</th>\n",
       "      <td>2.6</td>\n",
       "      <td>53</td>\n",
       "      <td>66</td>\n",
       "      <td>10.8</td>\n",
       "      <td>5</td>\n",
       "    </tr>\n",
       "  </tbody>\n",
       "</table>\n",
       "</div>"
      ],
      "text/plain": [
       "               Murder  Assault  UrbanPop  Rape  clusters\n",
       "Idaho             2.6      120        54  14.2         5\n",
       "Iowa              2.2       56        57  11.3         5\n",
       "Maine             2.1       83        51   7.8         5\n",
       "Minnesota         2.7       72        66  14.9         5\n",
       "Montana           6.0      109        53  16.4         5\n",
       "New Hampshire     2.1       57        56   9.5         5\n",
       "North Dakota      0.8       45        44   7.3         5\n",
       "South Dakota      3.8       86        45  12.8         5\n",
       "Vermont           2.2       48        32  11.2         5\n",
       "West Virginia     5.7       81        39   9.3         5\n",
       "Wisconsin         2.6       53        66  10.8         5"
      ]
     },
     "execution_count": 25,
     "metadata": {},
     "output_type": "execute_result"
    }
   ],
   "source": [
    "df[df.clusters==5]"
   ]
  },
  {
   "cell_type": "code",
   "execution_count": 26,
   "id": "6a6d2a7c",
   "metadata": {},
   "outputs": [
    {
     "data": {
      "text/html": [
       "<div>\n",
       "<style scoped>\n",
       "    .dataframe tbody tr th:only-of-type {\n",
       "        vertical-align: middle;\n",
       "    }\n",
       "\n",
       "    .dataframe tbody tr th {\n",
       "        vertical-align: top;\n",
       "    }\n",
       "\n",
       "    .dataframe thead tr th {\n",
       "        text-align: left;\n",
       "    }\n",
       "\n",
       "    .dataframe thead tr:last-of-type th {\n",
       "        text-align: right;\n",
       "    }\n",
       "</style>\n",
       "<table border=\"1\" class=\"dataframe\">\n",
       "  <thead>\n",
       "    <tr>\n",
       "      <th></th>\n",
       "      <th colspan=\"3\" halign=\"left\">Murder</th>\n",
       "      <th colspan=\"3\" halign=\"left\">Assault</th>\n",
       "      <th colspan=\"3\" halign=\"left\">UrbanPop</th>\n",
       "      <th colspan=\"3\" halign=\"left\">Rape</th>\n",
       "    </tr>\n",
       "    <tr>\n",
       "      <th></th>\n",
       "      <th>count</th>\n",
       "      <th>mean</th>\n",
       "      <th>median</th>\n",
       "      <th>count</th>\n",
       "      <th>mean</th>\n",
       "      <th>median</th>\n",
       "      <th>count</th>\n",
       "      <th>mean</th>\n",
       "      <th>median</th>\n",
       "      <th>count</th>\n",
       "      <th>mean</th>\n",
       "      <th>median</th>\n",
       "    </tr>\n",
       "    <tr>\n",
       "      <th>clusters</th>\n",
       "      <th></th>\n",
       "      <th></th>\n",
       "      <th></th>\n",
       "      <th></th>\n",
       "      <th></th>\n",
       "      <th></th>\n",
       "      <th></th>\n",
       "      <th></th>\n",
       "      <th></th>\n",
       "      <th></th>\n",
       "      <th></th>\n",
       "      <th></th>\n",
       "    </tr>\n",
       "  </thead>\n",
       "  <tbody>\n",
       "    <tr>\n",
       "      <th>1</th>\n",
       "      <td>7</td>\n",
       "      <td>4.757143</td>\n",
       "      <td>4.4</td>\n",
       "      <td>7</td>\n",
       "      <td>123.428571</td>\n",
       "      <td>120.0</td>\n",
       "      <td>7</td>\n",
       "      <td>81.857143</td>\n",
       "      <td>83.0</td>\n",
       "      <td>7</td>\n",
       "      <td>16.071429</td>\n",
       "      <td>16.3</td>\n",
       "    </tr>\n",
       "    <tr>\n",
       "      <th>2</th>\n",
       "      <td>5</td>\n",
       "      <td>10.240000</td>\n",
       "      <td>10.0</td>\n",
       "      <td>5</td>\n",
       "      <td>250.000000</td>\n",
       "      <td>255.0</td>\n",
       "      <td>5</td>\n",
       "      <td>74.400000</td>\n",
       "      <td>78.0</td>\n",
       "      <td>5</td>\n",
       "      <td>40.980000</td>\n",
       "      <td>40.6</td>\n",
       "    </tr>\n",
       "    <tr>\n",
       "      <th>3</th>\n",
       "      <td>13</td>\n",
       "      <td>6.846154</td>\n",
       "      <td>6.8</td>\n",
       "      <td>13</td>\n",
       "      <td>149.000000</td>\n",
       "      <td>151.0</td>\n",
       "      <td>13</td>\n",
       "      <td>64.846154</td>\n",
       "      <td>66.0</td>\n",
       "      <td>13</td>\n",
       "      <td>20.653846</td>\n",
       "      <td>20.0</td>\n",
       "    </tr>\n",
       "    <tr>\n",
       "      <th>4</th>\n",
       "      <td>7</td>\n",
       "      <td>14.671429</td>\n",
       "      <td>14.4</td>\n",
       "      <td>7</td>\n",
       "      <td>251.285714</td>\n",
       "      <td>249.0</td>\n",
       "      <td>7</td>\n",
       "      <td>54.285714</td>\n",
       "      <td>58.0</td>\n",
       "      <td>7</td>\n",
       "      <td>21.685714</td>\n",
       "      <td>22.2</td>\n",
       "    </tr>\n",
       "    <tr>\n",
       "      <th>5</th>\n",
       "      <td>11</td>\n",
       "      <td>2.981818</td>\n",
       "      <td>2.6</td>\n",
       "      <td>11</td>\n",
       "      <td>73.636364</td>\n",
       "      <td>72.0</td>\n",
       "      <td>11</td>\n",
       "      <td>51.181818</td>\n",
       "      <td>53.0</td>\n",
       "      <td>11</td>\n",
       "      <td>11.409091</td>\n",
       "      <td>11.2</td>\n",
       "    </tr>\n",
       "    <tr>\n",
       "      <th>6</th>\n",
       "      <td>7</td>\n",
       "      <td>11.485714</td>\n",
       "      <td>11.3</td>\n",
       "      <td>7</td>\n",
       "      <td>274.000000</td>\n",
       "      <td>285.0</td>\n",
       "      <td>7</td>\n",
       "      <td>78.000000</td>\n",
       "      <td>80.0</td>\n",
       "      <td>7</td>\n",
       "      <td>28.342857</td>\n",
       "      <td>27.8</td>\n",
       "    </tr>\n",
       "  </tbody>\n",
       "</table>\n",
       "</div>"
      ],
      "text/plain": [
       "         Murder                   Assault                    UrbanPop  \\\n",
       "          count       mean median   count        mean median    count   \n",
       "clusters                                                                \n",
       "1             7   4.757143    4.4       7  123.428571  120.0        7   \n",
       "2             5  10.240000   10.0       5  250.000000  255.0        5   \n",
       "3            13   6.846154    6.8      13  149.000000  151.0       13   \n",
       "4             7  14.671429   14.4       7  251.285714  249.0        7   \n",
       "5            11   2.981818    2.6      11   73.636364   72.0       11   \n",
       "6             7  11.485714   11.3       7  274.000000  285.0        7   \n",
       "\n",
       "                            Rape                    \n",
       "               mean median count       mean median  \n",
       "clusters                                            \n",
       "1         81.857143   83.0     7  16.071429   16.3  \n",
       "2         74.400000   78.0     5  40.980000   40.6  \n",
       "3         64.846154   66.0    13  20.653846   20.0  \n",
       "4         54.285714   58.0     7  21.685714   22.2  \n",
       "5         51.181818   53.0    11  11.409091   11.2  \n",
       "6         78.000000   80.0     7  28.342857   27.8  "
      ]
     },
     "execution_count": 26,
     "metadata": {},
     "output_type": "execute_result"
    }
   ],
   "source": [
    "df.groupby(\"clusters\").agg([\"count\",\"mean\",\"median\"])\n",
    "# standartlaştırma yaptığımız için oluşan kümelere güvenebiliriz kayda değer \n",
    "# ancak çıkarım yapılmalı\n",
    "# mean ve median değerleri birbirine yakın olanları birleştirebiliriz, \n",
    "# önemli olan özelliğe karar vererek ona ait değerlere göre birleşme yapılabilir\n",
    "# sadece algoritmanın verdiğine bakılmamalı, betimlenmeli"
   ]
  },
  {
   "cell_type": "code",
   "execution_count": 27,
   "id": "8e60488a",
   "metadata": {},
   "outputs": [],
   "source": [
    "df.to_csv(\"cluster.csv\")"
   ]
  },
  {
   "cell_type": "code",
   "execution_count": null,
   "id": "0364c67e",
   "metadata": {},
   "outputs": [],
   "source": []
  }
 ],
 "metadata": {
  "kernelspec": {
   "display_name": "Python 3 (ipykernel)",
   "language": "python",
   "name": "python3"
  },
  "language_info": {
   "codemirror_mode": {
    "name": "ipython",
    "version": 3
   },
   "file_extension": ".py",
   "mimetype": "text/x-python",
   "name": "python",
   "nbconvert_exporter": "python",
   "pygments_lexer": "ipython3",
   "version": "3.9.13"
  }
 },
 "nbformat": 4,
 "nbformat_minor": 5
}
