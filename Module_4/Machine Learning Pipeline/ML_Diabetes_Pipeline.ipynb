{
 "cells": [
  {
   "cell_type": "code",
   "execution_count": 1,
   "id": "a7240ea0",
   "metadata": {},
   "outputs": [],
   "source": [
    "# End-to-End Machine Learning Pipeline II"
   ]
  },
  {
   "cell_type": "code",
   "execution_count": 2,
   "id": "5e7287ab",
   "metadata": {},
   "outputs": [],
   "source": [
    "# sadece fonksiyonlar vardır.\n",
    "# araştırmalar, görselleştirmeler research dosyasında bulunur\n",
    "# bu ayrıma orta ileri seviye projeler için ihtiyac duyulabilir"
   ]
  },
  {
   "cell_type": "code",
   "execution_count": 3,
   "id": "31277936",
   "metadata": {},
   "outputs": [],
   "source": [
    "import joblib\n",
    "import pandas as pd\n",
    "from xgboost import XGBClassifier\n",
    "from lightgbm import LGBMClassifier\n",
    "from sklearn.ensemble import RandomForestClassifier, GradientBoostingClassifier, VotingClassifier, AdaBoostClassifier\n",
    "from sklearn.linear_model import LogisticRegression\n",
    "from sklearn.model_selection import cross_validate, GridSearchCV\n",
    "from sklearn.neighbors import KNeighborsClassifier\n",
    "from sklearn.svm import SVC\n",
    "from sklearn.tree import DecisionTreeClassifier\n",
    "from sklearn.preprocessing import StandardScaler"
   ]
  },
  {
   "cell_type": "markdown",
   "id": "a8e8a008",
   "metadata": {},
   "source": [
    "### Helper Functions "
   ]
  },
  {
   "cell_type": "code",
   "execution_count": 4,
   "id": "7212ea16",
   "metadata": {},
   "outputs": [],
   "source": [
    "# buraya da tanımlanabilir, başka bir python dosyasından da import edilebilir"
   ]
  },
  {
   "cell_type": "code",
   "execution_count": 5,
   "id": "bf3f2acb",
   "metadata": {},
   "outputs": [],
   "source": [
    "# pip install nbimporter"
   ]
  },
  {
   "cell_type": "code",
   "execution_count": 6,
   "id": "bed451fd",
   "metadata": {},
   "outputs": [],
   "source": [
    "import nbimporter\n",
    "import helpers"
   ]
  },
  {
   "cell_type": "markdown",
   "id": "dfe3df4e",
   "metadata": {},
   "source": [
    "### Pipeline Main Function"
   ]
  },
  {
   "cell_type": "code",
   "execution_count": 7,
   "id": "9b19cada",
   "metadata": {},
   "outputs": [],
   "source": [
    "def main_diabetes():\n",
    "    df = pd.read_csv(\"diabetes.csv\") # 1. boru\n",
    "    X,y = helpers.diabetes_data_prep(df) # 2. boru\n",
    "    helpers.base_models(X,y) # research aşamasında kalabilir, pipeline'a tasımamıza gerek yoktur\n",
    "    best_models = helpers.hyperparameter_optimization(X,y) # 3. boru\n",
    "    voting_clf = helpers.voting_classifier(best_models,X,y) # 4.boru\n",
    "    joblib.dump(voting_clf,\"voting_clf_pipe.pkl\") # 5. boru\n",
    "    return voting_clf"
   ]
  },
  {
   "cell_type": "code",
   "execution_count": 8,
   "id": "abd3c270",
   "metadata": {},
   "outputs": [
    {
     "name": "stdout",
     "output_type": "stream",
     "text": [
      "Islem basladi....\n",
      "Observations: 768\n",
      "Variables: 13\n",
      "cat_cols: 5\n",
      "num_cols: 8\n",
      "cat_but_car: 0\n",
      "num_but_cat: 4\n",
      "Observations: 768\n",
      "Variables: 17\n",
      "cat_cols: 9\n",
      "num_cols: 8\n",
      "cat_but_car: 0\n",
      "num_but_cat: 9\n",
      "Base models....\n",
      "roc_auc: 0.8409 (LR)\n",
      "roc_auc: 0.791 (KNN)\n",
      "roc_auc: 0.8355 (SVC)\n",
      "roc_auc: 0.6534 (CART)\n",
      "roc_auc: 0.8291 (RF)\n",
      "roc_auc: 0.8196 (Adaboost)\n",
      "roc_auc: 0.824 (GBM)\n",
      "roc_auc: 0.8008 (XGBoost)\n",
      "roc_auc: 0.807 (LightGBM)\n",
      "roc_auc: 0.8349 (CatBoost)\n",
      "Hyperparameter optimization....\n",
      "########### KNN ###########\n",
      "roc_auc (Before): 0.791\n",
      "roc_auc (After): 0.8211\n",
      "KNN best params: {'n_neighbors': 20}\n",
      "\n",
      "########### CART ###########\n",
      "roc_auc (Before): 0.6362\n",
      "roc_auc (After): 0.7943\n",
      "CART best params: {'max_depth': 6, 'min_samples_split': 23}\n",
      "\n",
      "########### RF ###########\n",
      "roc_auc (Before): 0.8284\n",
      "roc_auc (After): 0.8306\n",
      "RF best params: {'max_depth': 15, 'max_features': 7, 'min_samples_split': 15, 'n_estimators': 200}\n",
      "\n",
      "########### XGBoost ###########\n",
      "roc_auc (Before): 0.8008\n",
      "roc_auc (After): 0.8147\n",
      "XGBoost best params: {'learning_rate': 0.1, 'max_depth': 5, 'n_estimators': 100}\n",
      "\n",
      "########### LightGBM ###########\n",
      "roc_auc (Before): 0.807\n",
      "roc_auc (After): 0.8227\n",
      "LightGBM best params: {'learning_rate': 0.01, 'n_estismators': 300}\n",
      "\n",
      "Voting classifier....\n",
      "Accuracy: 0.7721354166666666\n",
      "F1Score: 0.6229276613891997\n",
      "ROC_AUC: 0.8377177807494377\n"
     ]
    }
   ],
   "source": [
    "# kodun içine girip çalıştırma görevi görmesi için kullanılır\n",
    "# bir python dosyasını çalıştıracak olan niahi bölümdür.\n",
    "# exe işlemi başlamadan önce farklı dokunuslar yapma imkanı tanır\n",
    "if __name__ == \"__main__\": # dunder name, dunder main\n",
    "    print(\"Islem basladi....\") # gibi dokunuslar\n",
    "    main_diabetes()"
   ]
  },
  {
   "cell_type": "code",
   "execution_count": null,
   "id": "be0a964e",
   "metadata": {},
   "outputs": [],
   "source": []
  },
  {
   "cell_type": "code",
   "execution_count": null,
   "id": "025157c7",
   "metadata": {},
   "outputs": [],
   "source": []
  }
 ],
 "metadata": {
  "kernelspec": {
   "display_name": "Python 3 (ipykernel)",
   "language": "python",
   "name": "python3"
  },
  "language_info": {
   "codemirror_mode": {
    "name": "ipython",
    "version": 3
   },
   "file_extension": ".py",
   "mimetype": "text/x-python",
   "name": "python",
   "nbconvert_exporter": "python",
   "pygments_lexer": "ipython3",
   "version": "3.9.13"
  }
 },
 "nbformat": 4,
 "nbformat_minor": 5
}
